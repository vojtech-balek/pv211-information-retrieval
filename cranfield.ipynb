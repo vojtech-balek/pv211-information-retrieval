{
 "cells": [
  {
   "cell_type": "markdown",
   "metadata": {
    "id": "cfQo2UKpZ9jT"
   },
   "source": [
    "# First Term Project: Cranfield Collection\n",
    "“The Cranfield collection [...] was the pioneering test collection in allowing CRANFIELD precise quantitative measures of information retrieval effectiveness [...]. Collected in the United Kingdom starting in the late 1950s, it contains 1398 abstracts of aerodynamics journal articles, a set of 225 queries, and exhaustive relevance judgments of all (query, document) pairs.” [1, Section 8.2]\n",
    "\n",
    "Your tasks, reviewed by your colleagues and the course instructors, are the following:\n",
    "\n",
    "1.   *Implement an unsupervised ranked retrieval system*, [1, Chapter 6] which will produce a list of documents from the Cranfield collection in a descending order of relevance to a query from the Cranfield collection. You MUST NOT use relevance judgements from the Cranfield collection in your information retrieval system. Relevance judgements MUST only be used for the evaluation of your information retrieval system.\n",
    "\n",
    "2.   *Document your code* in accordance with [PEP 257](https://www.python.org/dev/peps/pep-0257/), ideally using [the NumPy style guide](https://numpydoc.readthedocs.io/en/latest/format.html#docstring-standard) as seen in the code from exercises.  \n",
    "     *Stick to a consistent coding style* in accordance with [PEP 8](https://www.python.org/dev/peps/pep-0008/).\n",
    "\n",
    "3.   *Reach at least 22% mean average precision* [1, Section 8.4] with your system on the Cranfield collection. You MUST record your score either in [the public leaderboard](https://docs.google.com/spreadsheets/d/e/2PACX-1vT0FoFzCptIYKDsbcv8LebhZDe_20GFeBAPmS-VyImlWbqET0T7I2iWy59p9SHbUe3LX1yJMhALPcCY/pubhtml) or in this Jupyter notebook. You are encouraged to use techniques for tokenization, [1, Section 2.2] document representation [1, Section 6.4], tolerant retrieval [1, Chapter 3], relevance feedback and query expansion, [1, Chapter 9] and others discussed in the course.\n",
    "\n",
    "4.   _[Upload an .ipynb file](https://is.muni.cz/help/komunikace/spravcesouboru#k_ss_1) with this Jupyter notebook to the homework vault in IS MU._ You MAY also include a brief description of your information retrieval system and a link to an external service such as [Google Colaboratory](https://colab.research.google.com/), [DeepNote](https://deepnote.com/), or [JupyterHub](https://iirhub.cloud.e-infra.cz/).\n",
    "\n",
    "[1] Manning, Christopher D., Prabhakar Raghavan, and Hinrich Schütze. [*Introduction to information retrieval*](https://nlp.stanford.edu/IR-book/pdf/irbookonlinereading.pdf). Cambridge university press, 2008."
   ]
  },
  {
   "cell_type": "markdown",
   "metadata": {
    "id": "xmpR8qpTZwyP"
   },
   "source": [
    "## Loading the Cranfield collection\n",
    "\n",
    "First, we will install [our library](https://gitlab.fi.muni.cz/xstefan3/pv211-utils) and load the Cranfield collection."
   ]
  },
  {
   "cell_type": "code",
   "execution_count": 1,
   "metadata": {
    "ExecuteTime": {
     "end_time": "2025-03-11T13:45:55.691760Z",
     "start_time": "2025-03-11T13:45:55.687068Z"
    },
    "id": "inUAfc6TQMVJ",
    "scrolled": true,
    "tags": []
   },
   "outputs": [],
   "source": [
    "# !pip install --upgrade git+https://github.com/MIR-MU/pv211-utils.git@spring2025"
   ]
  },
  {
   "cell_type": "code",
   "execution_count": 2,
   "metadata": {
    "ExecuteTime": {
     "end_time": "2025-03-11T13:45:55.740166Z",
     "start_time": "2025-03-11T13:45:55.736576Z"
    },
    "collapsed": false
   },
   "outputs": [],
   "source": [
    "# !export PYTHONPATH=/home/jovyan/.local/bin:${PYTHONPATH}"
   ]
  },
  {
   "cell_type": "code",
   "execution_count": 3,
   "metadata": {
    "ExecuteTime": {
     "end_time": "2025-03-11T13:45:55.967492Z",
     "start_time": "2025-03-11T13:45:55.965297Z"
    },
    "collapsed": false
   },
   "outputs": [],
   "source": [
    "# !pip install --upgrade nltk"
   ]
  },
  {
   "cell_type": "markdown",
   "metadata": {
    "id": "y845E0ePZqeH"
   },
   "source": [
    "### Loading the documents\n",
    "\n",
    "Next, we will define a class named `Document` that will represent a preprocessed document from the Cranfield collection. Tokenization and preprocessing of the `title` and `body` attributes of the individual documents as well as the creative use of the `authors`, `bibliography`, and `title` attributes is left to your imagination and craftsmanship."
   ]
  },
  {
   "cell_type": "code",
   "execution_count": 4,
   "metadata": {
    "ExecuteTime": {
     "end_time": "2025-03-11T13:45:56.032581Z",
     "start_time": "2025-03-11T13:45:55.997971Z"
    },
    "id": "fyAqWIQyINng",
    "tags": []
   },
   "outputs": [],
   "source": [
    "from pv211_utils.cranfield.entities import CranfieldDocumentBase\n",
    "\n",
    "class Document(CranfieldDocumentBase):\n",
    "    \"\"\"\n",
    "    A preprocessed Cranfield collection document.\n",
    "\n",
    "    Parameters\n",
    "    ----------\n",
    "    document_id : str\n",
    "        A unique identifier of the document.\n",
    "    authors : list of str\n",
    "        A unique identifiers of the authors of the document.\n",
    "    bibliography : str\n",
    "        The bibliographical entry for the document.\n",
    "    title : str\n",
    "        The title of the document.\n",
    "    body : str\n",
    "        The abstract of the document.\n",
    "\n",
    "    \"\"\"\n",
    "    def __init__(self, document_id: str, authors: str, bibliography: str, title: str, body: str):\n",
    "        super().__init__(document_id, authors, bibliography, title, body)\n",
    "\n",
    "    def __str__(self):\n",
    "        return f\"{self.title} {self.title} {self.title} {self.body}\""
   ]
  },
  {
   "cell_type": "markdown",
   "metadata": {
    "id": "gwnMPmFjK_FQ"
   },
   "source": [
    "We will load documents into the `documents` [ordered dictionary](https://docs.python.org/3.8/library/collections.html#collections.OrderedDict). Each document is an instance of the `Document` class that we have just defined."
   ]
  },
  {
   "cell_type": "code",
   "execution_count": 5,
   "metadata": {
    "ExecuteTime": {
     "end_time": "2025-03-11T13:45:58.133807Z",
     "start_time": "2025-03-11T13:45:56.052217Z"
    },
    "id": "HfRrW7O6U5wb",
    "tags": []
   },
   "outputs": [
    {
     "name": "stderr",
     "output_type": "stream",
     "text": [
      "/usr/local/lib/python3.8/dist-packages/beir/util.py:2: TqdmExperimentalWarning: Using `tqdm.autonotebook.tqdm` in notebook mode. Use `tqdm.tqdm` instead to force console mode (e.g. in jupyter console)\n",
      "  from tqdm.autonotebook import tqdm\n"
     ]
    }
   ],
   "source": [
    "from pv211_utils.datasets import CranfieldDataset\n",
    "\n",
    "cranfield = CranfieldDataset()\n",
    "\n",
    "documents = cranfield.load_documents(Document)"
   ]
  },
  {
   "cell_type": "code",
   "execution_count": 6,
   "metadata": {
    "ExecuteTime": {
     "end_time": "2025-03-11T13:45:58.171632Z",
     "start_time": "2025-03-11T13:45:58.167689Z"
    },
    "id": "DkeKUsWWWnb9",
    "tags": []
   },
   "outputs": [
    {
     "name": "stdout",
     "output_type": "stream",
     "text": [
      "<Document 1 “experimental investigation of the aerodynamics of  ...”>\n",
      "<Document 2 “simple shear flow past a flat plate in an incompre ...”>\n",
      "<Document 3 “the boundary layer in simple shear flow past a fla ...”>\n",
      "...\n",
      "<Document 1398 “stability of rectangular plates under shear and be ...”>\n",
      "<Document 1399 “buckling of transverse stiffened plates under shea ...”>\n",
      "<Document 1400 “the buckling shear stress of simply-supported infi ...”>\n"
     ]
    }
   ],
   "source": [
    "print('\\n'.join(repr(document) for document in list(documents.values())[:3]))\n",
    "print('...')\n",
    "print('\\n'.join(repr(document) for document in list(documents.values())[-3:]))"
   ]
  },
  {
   "cell_type": "code",
   "execution_count": 7,
   "metadata": {
    "ExecuteTime": {
     "end_time": "2025-03-11T13:45:58.247796Z",
     "start_time": "2025-03-11T13:45:58.236163Z"
    },
    "id": "kvsnuhT3ZZAo",
    "tags": []
   },
   "outputs": [
    {
     "data": {
      "text/plain": [
       "<Document 200 “calculation of derivatives for a cropped delta win ...”>"
      ]
     },
     "execution_count": 7,
     "metadata": {},
     "output_type": "execute_result"
    }
   ],
   "source": [
    "document = documents['200']\n",
    "document"
   ]
  },
  {
   "cell_type": "code",
   "execution_count": 8,
   "metadata": {
    "ExecuteTime": {
     "end_time": "2025-03-11T13:45:58.331826Z",
     "start_time": "2025-03-11T13:45:58.327041Z"
    },
    "id": "e-zw68v5Xoh5",
    "tags": []
   },
   "outputs": [
    {
     "name": "stdout",
     "output_type": "stream",
     "text": [
      "watson,j.\n"
     ]
    }
   ],
   "source": [
    "print(document.authors)"
   ]
  },
  {
   "cell_type": "code",
   "execution_count": 9,
   "metadata": {
    "ExecuteTime": {
     "end_time": "2025-03-11T13:45:58.383601Z",
     "start_time": "2025-03-11T13:45:58.380155Z"
    },
    "id": "p13FfuduZSRK",
    "tags": []
   },
   "outputs": [
    {
     "name": "stdout",
     "output_type": "stream",
     "text": [
      "arc r + m 3060, 1958.\n"
     ]
    }
   ],
   "source": [
    "print(document.bibliography)"
   ]
  },
  {
   "cell_type": "code",
   "execution_count": 10,
   "metadata": {
    "ExecuteTime": {
     "end_time": "2025-03-11T13:45:58.427091Z",
     "start_time": "2025-03-11T13:45:58.424952Z"
    },
    "id": "z5bmj4WzZc9e",
    "tags": []
   },
   "outputs": [
    {
     "name": "stdout",
     "output_type": "stream",
     "text": [
      "calculation of derivatives for a cropped delta wing with subsonic leading edges oscillating in a supersonic airstream .\n"
     ]
    }
   ],
   "source": [
    "print(document.title)"
   ]
  },
  {
   "cell_type": "code",
   "execution_count": 11,
   "metadata": {
    "ExecuteTime": {
     "end_time": "2025-03-11T13:45:58.463559Z",
     "start_time": "2025-03-11T13:45:58.461223Z"
    },
    "id": "W3z7ed8SZkn6",
    "tags": []
   },
   "outputs": [
    {
     "name": "stdout",
     "output_type": "stream",
     "text": [
      "calculation of derivatives for a cropped delta wing with subsonic leading edges oscillating in a supersonic airstream .   the lift, pitching moment and full-span constant-chord control hinge-moment are derived for a cropped delta wing describing harmonic plunging and pitching oscillations of small amplitude and low-frequency parameter in a supersonic air stream .  it is assumed that (a) the wing has subsonic leading edges, (b) the wing is sufficiently thin and the mach number sufficiently supersonic to permit the use of linearised theory .   expressions for the various derivative coefficients are obtained for a particular delta wing of aspect ratio 1.8 and taper ratio these are avaluated and tabulated for mach numbers 1.1, 1.15, 1.2, 1.3, 1.4, 1.5, 1.6 and 1.944 .\n"
     ]
    }
   ],
   "source": [
    "print(document.body)"
   ]
  },
  {
   "cell_type": "markdown",
   "metadata": {
    "id": "CwYwHs-MpD1_"
   },
   "source": [
    "### Loading the queries\n",
    "Next, we will define a class named `Query` that will represent a preprocessed query from the Cranfield collection. Tokenization and preprocessing of the `body` attribute of the individual queries is left to your craftsmanship."
   ]
  },
  {
   "cell_type": "code",
   "execution_count": 12,
   "metadata": {
    "ExecuteTime": {
     "end_time": "2025-03-11T13:45:58.528927Z",
     "start_time": "2025-03-11T13:45:58.525705Z"
    },
    "id": "oaCFkMFdKjST",
    "tags": []
   },
   "outputs": [],
   "source": [
    "from pv211_utils.cranfield.entities import CranfieldQueryBase\n",
    "\n",
    "class Query(CranfieldQueryBase):\n",
    "    \"\"\"\n",
    "    A preprocessed Cranfield collection query.\n",
    "\n",
    "    Parameters\n",
    "    ----------\n",
    "    query_id : int\n",
    "        A unique identifier of the query.\n",
    "    body : str\n",
    "        The text of the query.\n",
    "\n",
    "    \"\"\"\n",
    "    def __init__(self, query_id: int, body: str):\n",
    "        super().__init__(query_id, body)\n",
    "\n",
    "    def __str__(self):\n",
    "        return self.body"
   ]
  },
  {
   "cell_type": "markdown",
   "metadata": {
    "id": "a-aAREbRMXeJ"
   },
   "source": [
    "We will load queries into the `queries` [ordered dictionary](https://docs.python.org/3.8/library/collections.html#collections.OrderedDict). Each query is an instance of the `Query` class that we have just defined."
   ]
  },
  {
   "cell_type": "code",
   "execution_count": 13,
   "metadata": {
    "ExecuteTime": {
     "end_time": "2025-03-11T13:45:58.587172Z",
     "start_time": "2025-03-11T13:45:58.580130Z"
    },
    "id": "8qcyQUNRqRTr",
    "tags": []
   },
   "outputs": [],
   "source": [
    "queries = cranfield.load_test_queries(Query)"
   ]
  },
  {
   "cell_type": "code",
   "execution_count": 14,
   "metadata": {
    "ExecuteTime": {
     "end_time": "2025-03-11T13:45:58.622640Z",
     "start_time": "2025-03-11T13:45:58.609463Z"
    },
    "collapsed": false
   },
   "outputs": [
    {
     "data": {
      "text/plain": [
       "OrderedDict([(12,\n",
       "              <Query 12 “how can the aerodynamic performance of channel flo ...”>),\n",
       "             (31,\n",
       "              <Query 31 “what size of end plate can be safely used to simul ...”>),\n",
       "             (84,\n",
       "              <Query 84 “references on the methods available for accurately ...”>),\n",
       "             (32,\n",
       "              <Query 32 “to find an approximate correction for thickness in ...”>),\n",
       "             (204,\n",
       "              <Query 204 “do viscous effects seriously modify pressure distr ...”>),\n",
       "             (47,\n",
       "              <Query 47 “what are the existing solutions for hypersonic vis ...”>),\n",
       "             (118,\n",
       "              <Query 118 “what are the aerodynamic interference effects on t ...”>),\n",
       "             (156,\n",
       "              <Query 156 “what qualitative and quantitative material is avai ...”>),\n",
       "             (117,\n",
       "              <Query 117 “is there any information on how the addition of a  ...”>),\n",
       "             (179,\n",
       "              <Query 179 “has a theory of quasi-conical flows been developed ...”>),\n",
       "             (214,\n",
       "              <Query 214 “can non-linear shallow shell analysis be reduced t ...”>),\n",
       "             (61,\n",
       "              <Query 61 “does there exist a closed-form expression for the  ...”>),\n",
       "             (208,\n",
       "              <Query 208 “what is the effect of the shape of the drag polar  ...”>),\n",
       "             (21,\n",
       "              <Query 21 “why does the compressibility transformation fail t ...”>),\n",
       "             (193,\n",
       "              <Query 193 “general methods of solving clamped plate problems  ...”>),\n",
       "             (80,\n",
       "              <Query 80 “are methods of measuring aerodynamic derivatives a ...”>),\n",
       "             (195,\n",
       "              <Query 195 “in the problem of the buckling strength of uniform ...”>),\n",
       "             (163,\n",
       "              <Query 163 “can the hypersonic similarity results be applied t ...”>),\n",
       "             (89,\n",
       "              <Query 89 “how is the flow at transonic speeds about a delta  ...”>),\n",
       "             (36,\n",
       "              <Query 36 “has anyone investigated relaxation effects on gase ...”>),\n",
       "             (111,\n",
       "              <Query 111 “have the effects of an elastic edge restraint been ...”>),\n",
       "             (186,\n",
       "              <Query 186 “how can wing-body, flow field interference effects ...”>),\n",
       "             (66,\n",
       "              <Query 66 “can the procedure of matching inner and outer solu ...”>),\n",
       "             (143,\n",
       "              <Query 143 “what general solutions for the stresses in pressur ...”>),\n",
       "             (223,\n",
       "              <Query 223 “papers on shear buckling of unstiffened rectangula ...”>),\n",
       "             (44,\n",
       "              <Query 44 “what are the details of the rigorous kinetic theor ...”>),\n",
       "             (75,\n",
       "              <Query 75 “do the discrepancies among current analyses of the ...”>),\n",
       "             (26,\n",
       "              <Query 26 “what is a single approximate formula for the displ ...”>),\n",
       "             (149,\n",
       "              <Query 149 “has anyone developed an analysis which accurately  ...”>),\n",
       "             (60,\n",
       "              <Query 60 “is there any simple, but practical, method for num ...”>),\n",
       "             (137,\n",
       "              <Query 137 “have any analytical studies been conducted on the  ...”>),\n",
       "             (54,\n",
       "              <Query 54 “how is the heat transfer downstream of the mass tr ...”>),\n",
       "             (71,\n",
       "              <Query 71 “experimental results on hypersonic viscous interac ...”>),\n",
       "             (70,\n",
       "              <Query 70 “previous solutions to the boundary layer similarit ...”>),\n",
       "             (65,\n",
       "              <Query 65 “does the boundary layer on a flat plate in a shear ...”>),\n",
       "             (126,\n",
       "              <Query 126 “thrust vector control by fluid injection -dash pap ...”>),\n",
       "             (189,\n",
       "              <Query 189 “is there a design method for calculating thermal f ...”>),\n",
       "             (10,\n",
       "              <Query 10 “are real-gas transport properties for air availabl ...”>),\n",
       "             (34,\n",
       "              <Query 34 “have wind tunnel interference effects been investi ...”>),\n",
       "             (52,\n",
       "              <Query 52 “what is the available information pertaining to th ...”>),\n",
       "             (108,\n",
       "              <Query 108 “what data is there on the fatigue of structures un ...”>),\n",
       "             (25,\n",
       "              <Query 25 “does a practical flow follow the theoretical conce ...”>),\n",
       "             (211,\n",
       "              <Query 211 “what papers are available on the buckling of empty ...”>),\n",
       "             (43,\n",
       "              <Query 43 “can the transonic flow around an arbitrary smooth  ...”>),\n",
       "             (7,\n",
       "              <Query 7 “is it possible to relate the available pressure di ...”>),\n",
       "             (172,\n",
       "              <Query 172 “solution of the blasius problem with three-point b ...”>),\n",
       "             (135,\n",
       "              <Query 135 “what are the experimental results for the creep bu ...”>),\n",
       "             (6,\n",
       "              <Query 6 “what theoretical and experimental guides do we hav ...”>),\n",
       "             (140,\n",
       "              <Query 140 “what are the discontinuity stresses at junctions i ...”>),\n",
       "             (86,\n",
       "              <Query 86 “can a satisfactory experimental technique be devel ...”>),\n",
       "             (94,\n",
       "              <Query 94 “what is the theoretical heat transfer rate at the  ...”>),\n",
       "             (109, <Query 109 “panels subjected to aerodynamic heating .”>),\n",
       "             (64,\n",
       "              <Query 64 “can't the static deflection shapes be used in pred ...”>),\n",
       "             (42,\n",
       "              <Query 42 “what is a criterion that the transonic flow around ...”>),\n",
       "             (162,\n",
       "              <Query 162 “what accurate or exact solutions of the laminar se ...”>),\n",
       "             (225,\n",
       "              <Query 225 “what design factors can be used to control lift-dr ...”>),\n",
       "             (218,\n",
       "              <Query 218 “what is the heat transfer to a blunt body in the a ...”>),\n",
       "             (69,\n",
       "              <Query 69 “what is known regarding asymptotic solutions to th ...”>),\n",
       "             (82,\n",
       "              <Query 82 “how do kuchemann's and multhopp's methods for calc ...”>),\n",
       "             (121,\n",
       "              <Query 121 “what papers are there dealing with circumferential ...”>),\n",
       "             (152,\n",
       "              <Query 152 “how can the effect of the boundary-layer on wing p ...”>),\n",
       "             (102,\n",
       "              <Query 102 “basic dynamic characteristics of structures contin ...”>),\n",
       "             (29,\n",
       "              <Query 29 “what is the effect of cross sectional shape on the ...”>),\n",
       "             (62,\n",
       "              <Query 62 “how far around a cylinder and under what condition ...”>),\n",
       "             (215,\n",
       "              <Query 215 “is it possible to predict the shape of a shroud wh ...”>),\n",
       "             (131,\n",
       "              <Query 131 “what agreement is found between theoretically pred ...”>),\n",
       "             (104,\n",
       "              <Query 104 “can the load deformation characteristics of a beam ...”>),\n",
       "             (184, <Query 184 “work on small-oscillation re-entry motions .”>),\n",
       "             (19,\n",
       "              <Query 19 “does there exist a good basic treatment of the dyn ...”>),\n",
       "             (27,\n",
       "              <Query 27 “how is the design of ring or part ring wings by li ...”>),\n",
       "             (95,\n",
       "              <Query 95 “what is the theoretical heat transfer distribution ...”>),\n",
       "             (85,\n",
       "              <Query 85 “what parameters can seriously influence natural tr ...”>),\n",
       "             (217,\n",
       "              <Query 217 “has anyone investigated the effect of shock genera ...”>),\n",
       "             (127,\n",
       "              <Query 127 “is it possible to obtain a reasonably simple analy ...”>),\n",
       "             (151,\n",
       "              <Query 151 “what is the best theoretical method for calculatin ...”>),\n",
       "             (5,\n",
       "              <Query 5 “what chemical kinetic system is applicable to hype ...”>),\n",
       "             (79,\n",
       "              <Query 79 “have any aerodynamic derivatives been measured at  ...”>),\n",
       "             (72,\n",
       "              <Query 72 “what has been done about viscous interactions in r ...”>),\n",
       "             (187,\n",
       "              <Query 187 “has anyone analytically or experimentally investig ...”>),\n",
       "             (103,\n",
       "              <Query 103 “is the information on the buckling of sandwich sph ...”>),\n",
       "             (122,\n",
       "              <Query 122 “what analytical investigations have been made of t ...”>),\n",
       "             (28,\n",
       "              <Query 28 “what application has the linear theory design of c ...”>),\n",
       "             (53,\n",
       "              <Query 53 “what investigations have been made of the flow fie ...”>),\n",
       "             (38,\n",
       "              <Query 38 “does transition in the hypersonic wake depend on b ...”>),\n",
       "             (41,\n",
       "              <Query 41 “has anyone investigated and developed a simple mod ...”>),\n",
       "             (20,\n",
       "              <Query 20 “has anyone formally determined the influence of jo ...”>),\n",
       "             (4,\n",
       "              <Query 4 “can a criterion be developed to show empirically t ...”>),\n",
       "             (209,\n",
       "              <Query 209 “what are the physical significance and characteris ...”>),\n",
       "             (3,\n",
       "              <Query 3 “what problems of heat conduction in composite slab ...”>),\n",
       "             (203,\n",
       "              <Query 203 “are simple empirical methods of any use for estima ...”>),\n",
       "             (169,\n",
       "              <Query 169 “what approximate solutions are known to the indire ...”>),\n",
       "             (148,\n",
       "              <Query 148 “papers on small deflection theory for buckling of  ...”>),\n",
       "             (55,\n",
       "              <Query 55 “to what extent can the available information for i ...”>),\n",
       "             (129,\n",
       "              <Query 129 “has anyone derived simplified pump design equation ...”>),\n",
       "             (174,\n",
       "              <Query 174 “obtain all papers and reports that contain shock d ...”>),\n",
       "             (222,\n",
       "              <Query 222 “has anyone investigated the shear buckling of stif ...”>),\n",
       "             (88,\n",
       "              <Query 88 “how does a satellite orbit contract under the acti ...”>),\n",
       "             (185, <Query 185 “experimental studies on panel flutter .”>),\n",
       "             (141,\n",
       "              <Query 141 “what analytical solutions are available for stress ...”>),\n",
       "             (166,\n",
       "              <Query 166 “are there experimental results on the stability of ...”>),\n",
       "             (158,\n",
       "              <Query 158 “what are the available properties of high-temperat ...”>),\n",
       "             (50,\n",
       "              <Query 50 “what are the effects of small amounts of gas raref ...”>),\n",
       "             (134,\n",
       "              <Query 134 “is it possible to correlate the results on the cre ...”>),\n",
       "             (192,\n",
       "              <Query 192 “papers dealing with uniformly loaded sectors .”>),\n",
       "             (58,\n",
       "              <Query 58 “is it possible to determine rates of forced convec ...”>),\n",
       "             (99,\n",
       "              <Query 99 “given that an uncontrolled vehicle will tumble as  ...”>),\n",
       "             (119,\n",
       "              <Query 119 “what is the effect of initial axisymmetric deviati ...”>),\n",
       "             (164,\n",
       "              <Query 164 “what determines the onset of shock-induced boundar ...”>),\n",
       "             (161,\n",
       "              <Query 161 “is there an integral method to give a single and s ...”>),\n",
       "             (150,\n",
       "              <Query 150 “what is the magnitude of second-order wing-body in ...”>),\n",
       "             (116,\n",
       "              <Query 116 “what is the magnitude and distribution of lift ove ...”>),\n",
       "             (48,\n",
       "              <Query 48 “what controls leading-edge attachment at transonic ...”>),\n",
       "             (171,\n",
       "              <Query 171 “has a comparison been made between interference-fr ...”>),\n",
       "             (67,\n",
       "              <Query 67 “can series expansions be found for the boundary la ...”>),\n",
       "             (9,\n",
       "              <Query 9 “papers on internal /slip flow/ heat transfer studi ...”>),\n",
       "             (112,\n",
       "              <Query 112 “has the solution of the clamped plate problem, in  ...”>),\n",
       "             (97,\n",
       "              <Query 97 “what information is available for dynamic response ...”>),\n",
       "             (144,\n",
       "              <Query 144 “can studies of pure membrane cylinders having no w ...”>),\n",
       "             (175,\n",
       "              <Query 175 “work on flow in channels at low reynolds numbers .”>),\n",
       "             (132, <Query 132 “theoretical studies of creep buckling .”>),\n",
       "             (180,\n",
       "              <Query 180 “how does scale height vary with altitude in an atm ...”>),\n",
       "             (49,\n",
       "              <Query 49 “can the three-point boundary-value problem for the ...”>),\n",
       "             (101,\n",
       "              <Query 101 “why does the incremental theory and the deformatio ...”>),\n",
       "             (59,\n",
       "              <Query 59 “how much is known about boundary layer flows along ...”>),\n",
       "             (219,\n",
       "              <Query 219 “what are the general effects on flow fields when t ...”>),\n",
       "             (224,\n",
       "              <Query 224 “in practice, how close to reality are the assumpti ...”>),\n",
       "             (139,\n",
       "              <Query 139 “has the effect of the change of initial pressure d ...”>),\n",
       "             (113,\n",
       "              <Query 113 “what data exists on oscillatory aerodynamic forces ...”>),\n",
       "             (39,\n",
       "              <Query 39 “how can one detect transition phenomena in boundar ...”>),\n",
       "             (201,\n",
       "              <Query 201 “what are the nonequilibrium chemical constituents  ...”>),\n",
       "             (200,\n",
       "              <Query 200 “are asymptotic methods sufficiently accurate in th ...”>),\n",
       "             (46,\n",
       "              <Query 46 “what is the combined effect of surface heat and ma ...”>),\n",
       "             (63,\n",
       "              <Query 63 “where can i find pressure data on surfaces of swep ...”>),\n",
       "             (167,\n",
       "              <Query 167 “exact solution methods for calculating the ablativ ...”>),\n",
       "             (30,\n",
       "              <Query 30 “papers on flow visualization on slender conical wi ...”>),\n",
       "             (96,\n",
       "              <Query 96 “has anyone investigated the unsteady lift distribu ...”>),\n",
       "             (115,\n",
       "              <Query 115 “is the problem of similarity for representative in ...”>),\n",
       "             (11,\n",
       "              <Query 11 “is it possible to find an analytical, similar solu ...”>),\n",
       "             (8,\n",
       "              <Query 8 “what methods -dash exact or approximate -dash are  ...”>),\n",
       "             (123,\n",
       "              <Query 123 “has any work been done on determining the nature o ...”>),\n",
       "             (182,\n",
       "              <Query 182 “effects of leading-edge bluntness on the flutter c ...”>),\n",
       "             (181,\n",
       "              <Query 181 “jet interference with supersonic flows theoretical ...”>),\n",
       "             (168,\n",
       "              <Query 168 “what approximate solutions are known to the direct ...”>),\n",
       "             (196,\n",
       "              <Query 196 “the problem of similarity for representative inves ...”>),\n",
       "             (183,\n",
       "              <Query 183 “what factors have been shown to have a primary inf ...”>),\n",
       "             (198,\n",
       "              <Query 198 “is there any information available on the differen ...”>),\n",
       "             (210,\n",
       "              <Query 210 “has anyone analytically investigated the stabilizi ...”>),\n",
       "             (81,\n",
       "              <Query 81 “what are wind-tunnel corrections for a two-dimensi ...”>),\n",
       "             (160,\n",
       "              <Query 160 “compressive circumferential stresses in a torisphe ...”>),\n",
       "             (92,\n",
       "              <Query 92 “given complete freedom in the design of an airplan ...”>),\n",
       "             (142,\n",
       "              <Query 142 “what dome contours minimize discontinuity stresses ...”>),\n",
       "             (2,\n",
       "              <Query 2 “what are the structural and aeroelastic problems a ...”>),\n",
       "             (178,\n",
       "              <Query 178 “has a criterion been established for determining t ...”>),\n",
       "             (145,\n",
       "              <Query 145 “what are the best experimental data and classical  ...”>),\n",
       "             (155,\n",
       "              <Query 155 “technical report on measurement of ablation during ...”>),\n",
       "             (45,\n",
       "              <Query 45 “has anyone investigated the effect of surface mass ...”>),\n",
       "             (220,\n",
       "              <Query 220 “find a calculation procedure applicable to all inc ...”>),\n",
       "             (107,\n",
       "              <Query 107 “in summarizing theoretical and experimental work o ...”>),\n",
       "             (87,\n",
       "              <Query 87 “what effect has the boundary layer in modifying th ...”>),\n",
       "             (51,\n",
       "              <Query 51 “what is the available information pertaining to bo ...”>),\n",
       "             (124,\n",
       "              <Query 124 “in what areas, other than low density wind tunnel  ...”>),\n",
       "             (133, <Query 133 “experimental studies of creep buckling .”>),\n",
       "             (125,\n",
       "              <Query 125 “jet interference with supersonic flow -dash experi ...”>),\n",
       "             (159,\n",
       "              <Query 159 “what is the magnitude of aerodynamic damping in fl ...”>),\n",
       "             (128,\n",
       "              <Query 128 “has anyone programmed a pump design method for a h ...”>),\n",
       "             (197,\n",
       "              <Query 197 “how is fatigue damage estimated using the normal l ...”>),\n",
       "             (1,\n",
       "              <Query 1 “what similarity laws must be obeyed when construct ...”>),\n",
       "             (170,\n",
       "              <Query 170 “why do users of orthodox pitot-static tubes often  ...”>),\n",
       "             (207,\n",
       "              <Query 207 “how do large changes in new mass ratio quantitativ ...”>),\n",
       "             (206,\n",
       "              <Query 206 “how do subsonic and transonic flutter data measure ...”>),\n",
       "             (37,\n",
       "              <Query 37 “are there any theoretical methods for predicting b ...”>),\n",
       "             (157,\n",
       "              <Query 157 “have flow fields been calculated for blunt-nosed b ...”>),\n",
       "             (154,\n",
       "              <Query 154 “which iterative method for solving linear elliptic ...”>),\n",
       "             (73,\n",
       "              <Query 73 “what role does the effect of chemical reaction (pa ...”>),\n",
       "             (136,\n",
       "              <Query 136 “what are the results for the creep buckling of rou ...”>),\n",
       "             (24,\n",
       "              <Query 24 “what are the factors which influence the time requ ...”>),\n",
       "             (191,\n",
       "              <Query 191 “what is the criterion for true panel flutter, as o ...”>),\n",
       "             (74,\n",
       "              <Query 74 “how significant is the possible pressure of a diss ...”>),\n",
       "             (202,\n",
       "              <Query 202 “how accurate are existing analytical theories in e ...”>),\n",
       "             (212,\n",
       "              <Query 212 “what effect do thermal stresses have on the compre ...”>),\n",
       "             (18,\n",
       "              <Query 18 “are experimental pressure distributions on bodies  ...”>),\n",
       "             (98,\n",
       "              <Query 98 “will forward or apex located controls be effective ...”>),\n",
       "             (15,\n",
       "              <Query 15 “material properties of photoelastic materials .”>),\n",
       "             (205,\n",
       "              <Query 205 “has anyone investigated theoretically whether surf ...”>),\n",
       "             (153,\n",
       "              <Query 153 “how should the navier-stokes difference equations  ...”>),\n",
       "             (221,\n",
       "              <Query 221 “papers applicable to this problem (calculation pro ...”>),\n",
       "             (90,\n",
       "              <Query 90 “recent data on shock-induced boundary-layer separa ...”>),\n",
       "             (216,\n",
       "              <Query 216 “what investigations have been made of the wave sys ...”>),\n",
       "             (190,\n",
       "              <Query 190 “will an analysis of panel flutter based on arbitra ...”>),\n",
       "             (106, <Query 106 “experimental techniques in shell vibration .”>),\n",
       "             (35,\n",
       "              <Query 35 “are there any papers dealing with acoustic wave pr ...”>),\n",
       "             (17,\n",
       "              <Query 17 “can the three-dimensional problem of a transverse  ...”>),\n",
       "             (165,\n",
       "              <Query 165 “are the stable profiles of a compressible boundary ...”>),\n",
       "             (147,\n",
       "              <Query 147 “what are the equations which define the stability  ...”>),\n",
       "             (23,\n",
       "              <Query 23 “what progress has been made in research on unstead ...”>),\n",
       "             (130,\n",
       "              <Query 130 “what are the flutter characteristics of the expose ...”>),\n",
       "             (83,\n",
       "              <Query 83 “what is the present state of the theory of quasi-c ...”>),\n",
       "             (14, <Query 14 “papers on shock-sound wave interaction .”>),\n",
       "             (138,\n",
       "              <Query 138 “has the effect of initial stresses, on the frequen ...”>),\n",
       "             (56,\n",
       "              <Query 56 “to what extent can readily available steady-state  ...”>),\n",
       "             (199,\n",
       "              <Query 199 “have non-linear large deflection analyses been con ...”>),\n",
       "             (114,\n",
       "              <Query 114 “it is not likely that the airforces on a wing of g ...”>),\n",
       "             (105,\n",
       "              <Query 105 “what is the effect of an internal liquid column on ...”>),\n",
       "             (110,\n",
       "              <Query 110 “can increasing the edge loading of a plate beyond  ...”>),\n",
       "             (77,\n",
       "              <Query 77 “how close is the comparison of the shock layer the ...”>),\n",
       "             (22,\n",
       "              <Query 22 “did anyone else discover that the turbulent skin f ...”>),\n",
       "             (33,\n",
       "              <Query 33 “how do interference-free longitudinal stability me ...”>),\n",
       "             (213,\n",
       "              <Query 213 “what is the effect on cylinder buckling of a circu ...”>),\n",
       "             (194,\n",
       "              <Query 194 “how can the analytical solution of the buckling st ...”>),\n",
       "             (13,\n",
       "              <Query 13 “what is the basic mechanism of the transonic ailer ...”>),\n",
       "             (176,\n",
       "              <Query 176 “some approximate analytical heat conduction soluti ...”>),\n",
       "             (188,\n",
       "              <Query 188 “what theoretical and experimental work has been do ...”>),\n",
       "             (68,\n",
       "              <Query 68 “what possible techniques are available for computi ...”>),\n",
       "             (93,\n",
       "              <Query 93 “can methane-air combustion product be used as a hy ...”>),\n",
       "             (120,\n",
       "              <Query 120 “are previous analyses of circumferential thermal b ...”>),\n",
       "             (173,\n",
       "              <Query 173 “references on lyapunov's method on the stability o ...”>),\n",
       "             (40,\n",
       "              <Query 40 “how can one detect transition phenomena in hyperso ...”>),\n",
       "             (57,\n",
       "              <Query 57 “what are the significant steady and non-steady flo ...”>),\n",
       "             (100,\n",
       "              <Query 100 “what are the effects of initial imperfections on t ...”>),\n",
       "             (91,\n",
       "              <Query 91 “what interference effects are likely at transonic  ...”>),\n",
       "             (76,\n",
       "              <Query 76 “how far can one trust the linear viscosity-tempera ...”>),\n",
       "             (177,\n",
       "              <Query 177 “what mode of stalling can be expected for each sta ...”>),\n",
       "             (16,\n",
       "              <Query 16 “can the transverse potential flow about a body of  ...”>),\n",
       "             (78,\n",
       "              <Query 78 “has anyone explained the kink in the surge line of ...”>),\n",
       "             (146,\n",
       "              <Query 146 “does a membrane theory exist by which the behaviou ...”>)])"
      ]
     },
     "execution_count": 14,
     "metadata": {},
     "output_type": "execute_result"
    }
   ],
   "source": [
    "queries"
   ]
  },
  {
   "cell_type": "code",
   "execution_count": 15,
   "metadata": {
    "ExecuteTime": {
     "end_time": "2025-03-11T13:45:58.695810Z",
     "start_time": "2025-03-11T13:45:58.692409Z"
    },
    "id": "IW-N6g3LqwPZ",
    "tags": []
   },
   "outputs": [
    {
     "name": "stdout",
     "output_type": "stream",
     "text": [
      "<Query 12 “how can the aerodynamic performance of channel flo ...”>\n",
      "<Query 31 “what size of end plate can be safely used to simul ...”>\n",
      "<Query 84 “references on the methods available for accurately ...”>\n",
      "...\n",
      "<Query 16 “can the transverse potential flow about a body of  ...”>\n",
      "<Query 78 “has anyone explained the kink in the surge line of ...”>\n",
      "<Query 146 “does a membrane theory exist by which the behaviou ...”>\n"
     ]
    }
   ],
   "source": [
    "print('\\n'.join(repr(query) for query in list(queries.values())[:3]))\n",
    "print('...')\n",
    "print('\\n'.join(repr(query) for query in list(queries.values())[-3:]))"
   ]
  },
  {
   "cell_type": "code",
   "execution_count": 16,
   "metadata": {
    "ExecuteTime": {
     "end_time": "2025-03-11T13:45:58.746470Z",
     "start_time": "2025-03-11T13:45:58.742849Z"
    },
    "id": "VgdHjSYIq5HV",
    "tags": []
   },
   "outputs": [
    {
     "data": {
      "text/plain": [
       "<Query 14 “papers on shock-sound wave interaction .”>"
      ]
     },
     "execution_count": 16,
     "metadata": {},
     "output_type": "execute_result"
    }
   ],
   "source": [
    "query = queries[14]\n",
    "query"
   ]
  },
  {
   "cell_type": "code",
   "execution_count": 17,
   "metadata": {
    "ExecuteTime": {
     "end_time": "2025-03-11T13:45:58.793487Z",
     "start_time": "2025-03-11T13:45:58.790595Z"
    },
    "id": "w4NGZOdOq8NF",
    "tags": []
   },
   "outputs": [
    {
     "name": "stdout",
     "output_type": "stream",
     "text": [
      "papers on shock-sound wave interaction .\n"
     ]
    }
   ],
   "source": [
    "print(query.body)"
   ]
  },
  {
   "cell_type": "code",
   "execution_count": 18,
   "metadata": {
    "ExecuteTime": {
     "end_time": "2025-03-11T13:46:00.035789Z",
     "start_time": "2025-03-11T13:45:58.841956Z"
    }
   },
   "outputs": [
    {
     "name": "stderr",
     "output_type": "stream",
     "text": [
      "[nltk_data] Downloading package punkt_tab to /home/jovyan/nltk_data...\n",
      "[nltk_data]   Package punkt_tab is already up-to-date!\n"
     ]
    },
    {
     "data": {
      "text/plain": [
       "True"
      ]
     },
     "execution_count": 18,
     "metadata": {},
     "output_type": "execute_result"
    }
   ],
   "source": [
    "from nltk import download\n",
    "\n",
    "download('punkt_tab')"
   ]
  },
  {
   "cell_type": "code",
   "execution_count": 20,
   "metadata": {
    "ExecuteTime": {
     "end_time": "2025-03-11T13:46:00.157209Z",
     "start_time": "2025-03-11T13:46:00.154597Z"
    },
    "collapsed": false
   },
   "outputs": [],
   "source": [
    "import numpy as np"
   ]
  },
  {
   "cell_type": "code",
   "execution_count": 21,
   "metadata": {
    "ExecuteTime": {
     "end_time": "2025-03-11T13:46:02.763326Z",
     "start_time": "2025-03-11T13:46:00.179672Z"
    }
   },
   "outputs": [
    {
     "name": "stdout",
     "output_type": "stream",
     "text": [
      "['gugu', 'gaga', 'ahoj', 'usa', 'reader', 'j']\n"
     ]
    }
   ],
   "source": [
    "from nltk import download\n",
    "from nltk.corpus import stopwords, wordnet\n",
    "from nltk.stem import WordNetLemmatizer\n",
    "from nltk.tokenize import word_tokenize\n",
    "from nltk.tag import pos_tag\n",
    "from gensim.utils import deaccent\n",
    "import re\n",
    "from nltk.stem import PorterStemmer\n",
    "from sklearn.feature_extraction.text import TfidfVectorizer\n",
    "import string\n",
    "\n",
    "# download('averaged_perceptron_tagger_eng')\n",
    "# download('stopwords')\n",
    "lemmatizer = WordNetLemmatizer()\n",
    "stop_words = set(stopwords.words('english'))  # Convert to set for fast lookup\n",
    "stemmer = PorterStemmer()\n",
    "\n",
    "def deacc(text):\n",
    "    return ' '.join([deaccent(word) for word in text.split(' ')])\n",
    "\n",
    "def split_hyphenated(tokens):\n",
    "    \"\"\"Split hyphenated words into individual words.\"\"\"\n",
    "    new_tokens = []\n",
    "    for token in tokens:\n",
    "        if \"-\" in token:\n",
    "            new_tokens.extend(token.split(\"-\"))  # Split into separate words\n",
    "        else:\n",
    "            new_tokens.append(token)\n",
    "    return new_tokens\n",
    "\n",
    "def remove_possessives(tokens):\n",
    "    return [re.sub(r\"'s\\b\", \"\", token) for token in tokens]\n",
    "\n",
    "def get_wordnet_pos(word):\n",
    "    \"\"\"Map POS tag to first character for WordNetLemmatizer.\"\"\"\n",
    "    tag = pos_tag([word])[0][1][0].upper()\n",
    "    return {'J': wordnet.ADJ, 'V': wordnet.VERB, 'N': wordnet.NOUN, 'R': wordnet.ADV}.get(tag, wordnet.NOUN)\n",
    "\n",
    "\n",
    "def stem(tokens: list):\n",
    "    \"\"\"Apply stemming using Porter Stemmer.\"\"\"\n",
    "    return [stemmer.stem(word) for word in tokens]\n",
    "\n",
    "\n",
    "def tokenize(text: str):\n",
    "    \"\"\"Basic tokenization using regex and NLTK.\"\"\"\n",
    "    text = re.sub(r'\\d+', '', text)  # Remove digits\n",
    "    text = text.replace('/', ' ')\n",
    "    text = re.sub(r'\\b(\\w\\.){2,}', lambda m: m.group(0).replace('.', ''), text)\n",
    "    text = re.sub(r'\\s+', ' ', text).strip()  # Normalize spaces\n",
    "    return word_tokenize(text)\n",
    "\n",
    "def remove_punctuation(tokens):\n",
    "    \"\"\"Remove punctuation from tokenized words.\"\"\"\n",
    "    return [word for word in tokens if word not in string.punctuation]\n",
    "\n",
    "def remove_stopwords(tokens: list, stop_words: set):\n",
    "    \"\"\"Remove dynamically identified stopwords and non-alphabetic words.\"\"\"\n",
    "    return [word for word in tokens if word not in stop_words]\n",
    "\n",
    "\n",
    "def lemmatize(tokens: list):\n",
    "    \"\"\"Lemmatize words using POS tags.\"\"\"\n",
    "    return [lemmatizer.lemmatize(word, get_wordnet_pos(word)) for word in tokens]\n",
    "\n",
    "\n",
    "def preprocessing(text: str, corpus=None, query=False):\n",
    "    \"\"\"Full preprocessing pipeline with dynamic stopword removal.\"\"\"\n",
    "    text = text.lower()\n",
    "    text = deacc(text)\n",
    "    tokens = tokenize(text)\n",
    "    tokens = remove_possessives(tokens)\n",
    "    tokens = remove_punctuation(tokens)\n",
    "    stop_words = set(stopwords.words('english'))\n",
    "    tokens = split_hyphenated(tokens)\n",
    "    tokens = remove_stopwords(tokens, stop_words)\n",
    "    tokens = lemmatize(tokens)\n",
    "    # tokens = [token for token in tokens if token and not (len(token) == 1) and not (len(token)!=2 and token.endswith('.') )]\n",
    "    return tokens\n",
    "\n",
    "print(preprocessing(\"gugu gaga ahoj U.S.A. 132 reader's j.\"))"
   ]
  },
  {
   "cell_type": "code",
   "execution_count": 22,
   "metadata": {
    "ExecuteTime": {
     "end_time": "2025-03-11T13:46:02.888819Z",
     "start_time": "2025-03-11T13:46:02.885107Z"
    },
    "collapsed": false
   },
   "outputs": [],
   "source": [
    "# for idx in documents:\n",
    "#     # print(documents[idx].body)\n",
    "#     print(preprocessing(documents[idx].body))\n",
    "#     if idx == '1000':\n",
    "#         break"
   ]
  },
  {
   "cell_type": "code",
   "execution_count": null,
   "metadata": {
    "ExecuteTime": {
     "end_time": "2025-03-11T13:46:02.919506Z",
     "start_time": "2025-03-11T13:46:02.917543Z"
    }
   },
   "outputs": [],
   "source": []
  },
  {
   "cell_type": "markdown",
   "metadata": {
    "id": "tvCynDQh9IP8"
   },
   "source": [
    "## Implementation of your information retrieval system\n",
    "\n",
    "You can try the [preprocessing][1] and [systems][2] that are [available in our library][1], but feel free to implement your own.\n",
    "\n",
    " [1]: https://github.com/MIR-MU/pv211-utils/tree/main/pv211_utils/preprocessing\n",
    " [2]: https://github.com/MIR-MU/pv211-utils/tree/main/pv211_utils/systems"
   ]
  },
  {
   "cell_type": "code",
   "execution_count": 23,
   "metadata": {
    "ExecuteTime": {
     "end_time": "2025-03-11T13:46:02.945472Z",
     "start_time": "2025-03-11T13:46:02.939264Z"
    },
    "id": "HRqgBUnh9IP8",
    "tags": []
   },
   "outputs": [],
   "source": [
    "from pv211_utils.entities import QueryBase, DocumentBase\n",
    "from pv211_utils.irsystem import IRSystemBase\n",
    "from rank_bm25 import BM25Plus\n",
    "from sklearn.feature_extraction.text import TfidfVectorizer\n",
    "\n",
    "from collections import OrderedDict\n",
    "from typing import Iterable"
   ]
  },
  {
   "cell_type": "code",
   "execution_count": 24,
   "metadata": {
    "ExecuteTime": {
     "end_time": "2025-03-11T13:46:03.226002Z",
     "start_time": "2025-03-11T13:46:02.988369Z"
    },
    "collapsed": false
   },
   "outputs": [],
   "source": [
    "for i in queries:\n",
    "    queries[i].body = ' '.join(preprocessing(queries[i].body, query=True))"
   ]
  },
  {
   "cell_type": "code",
   "execution_count": 25,
   "metadata": {
    "ExecuteTime": {
     "end_time": "2025-03-11T13:46:13.108666Z",
     "start_time": "2025-03-11T13:46:03.264158Z"
    },
    "collapsed": false
   },
   "outputs": [
    {
     "name": "stdout",
     "output_type": "stream",
     "text": [
      "{'paramount', 'basically', 'log', 'shanley', 'peculiarity', 'alleviation', 'prevention', 'constitutes', 'correspondingly', 'get', 'recommendation', 'aero', 'premature', 'answer', 'box', 'ray', 'chamber', 'unfortunately', 'irregular', 'monotonically', 'distinguish', 'amplify', 'predominantly', 'flexibly', 'insofar', 'resemble', 'salient', 'sutherland', 'caloric', 'shoulder', 'advantageous', 'denotes', 'sort', 'overlap', 'brass', 'intimate', 'favor', 'abrupt', 'scientific', 'nuclear', 'gaussian', 'tangency', 'ture', 'arrhenius', 'virtually', 'afterburning', 'desirability', 'implies', 'seventh', 'formally', 'necessitate', 'precipitate', 'adjustable', 'biconvex', 'vacuum', 'augmentation', 'sears', 'viscoelastic', 'sin', 'and', 'tensile', 'similarly', 'pronounce', 'dive', 'counter', 'unlikely', 'compact', 'success', 'whirl', 'proposes', 'key', 'equip', 'penetrate', 'evident', 'undershoot', 'go', 'bessel', 'retains', 'logical', 'bubble', 'british', 'expressible', 'stein', 'supersonically', 'orthogonal', 'materially', 'overpressure', 'filament', 'aforementioned', 'promising', 'journal', 'resemblance', 'movable', 'incorporates', 'next', 'overestimate', 'aeroelasticity', 'art', 'entail', 'valuable', 'equality', 'refers', 'memorandum', 'leeward', 'coincide', 'strut', 'worth', 'labor', 'resonance', 'argue', 'probability', 'deposit', 'sought', 'commercial', 'paradox', 'princeton', 'speak', 'department', 'june', 'diminishes', 'infer', 'ensure', 'spar', 'never', 'predominate', 'inadequacy', 'condense', 'discovery', 'noncatalytic', 'deterioration', 'progressive', 'gamma', 'hour', 'serf', 'built', 'converges', 'explore', 'sidewash', 'displayed', 'environmental', 'artificially', 'observable', 'promise', 'interconnect', 'gradually', 'rough', 'definitely', 'inter', 'neighbourhood', 'radar', 'complement', 'fps', 'window', 'condensation', 'abruptly', 'page', 'cubic', 'chief', 'encourage', 'mar', 'steep', 'accompanies', 'ability', 'equate', 'activity', 'cheng', 'minimal', 'photography', 'generates', 'international', 'juncture', 'humidity', 'ultimate', 'restrictive', 'attributable', 'constrain', 'hypothetical', 'noncircular', 'et', 'interacts', 'underestimate', 'tained', 'timoshenko', 'nylon', 'circularity', 'paid', 'originates', 'fractional', 'gradual', 'behave', 'governs', 'cooperation', 'inspection', 'predominant', 'demand', 'utilizes', 'pulse', 'sea', 'navy', 'substitution', 'insignificant', 'nonrotating', 'fabricate', 'translation', 'secondly', 'mayer', 'unusually', 'idealization', 'principally', 'inflection', 'evidently', 'stratford', 'compensate', 'linearity', 'calibrate', 'smoothly', 'prevails', 'precision', 'dynamically', 'refraction', 'al', 'aeroplane', 'surprisingly', 'transmit', 'minimise', 'fundamentally', 'clarify', 'recognize', 'saving', 'constitute', 'thirteen', 'assist', 'sequence', 'apart', 'nodal', 'rms', 'coincides', 'seek', 'bank', 'conversely', 'illustrative', 'db', 'diamond', 'confirmation', 'focus', 'embrace', 'lundquist', 'irrespective', 'lengthwise', 'continuously'}\n"
     ]
    }
   ],
   "source": [
    "class BM25PlusSystemWithRerank(IRSystemBase):\n",
    "    \"\"\"\n",
    "    Class for BM25+ ranking system. BM25+ is extension of BM25 - bag-of-words retrieval function that ranks a set of\n",
    "    documents based on the query terms appearing in each document, regardless of their proximity within the document.\n",
    "\n",
    "    Parameters\n",
    "    ----------\n",
    "    documents: OrderedDict\n",
    "        Input documents\n",
    "    k1: float\n",
    "        BM25 k1 parameter. k1 is a variable which helps determine term frequency saturation characteristics.\n",
    "    b: float\n",
    "        BM25 b parameter. With bigger b, the effects of the length of the document compared to the average\n",
    "        length are more amplified.\n",
    "    d: float\n",
    "        BM25 d parameter. Delta parameter for BM25+.\n",
    "\n",
    "    Attributes\n",
    "    ----------\n",
    "    bm25: BM25PlusCore\n",
    "        Ranking model\n",
    "    index: dict of (int, Document)\n",
    "        A mapping from indexed document numbers to documents.\n",
    "\n",
    "    \"\"\"\n",
    "\n",
    "    def __init__(self, documents: OrderedDict, preprocessing,\n",
    "                 k1: float = 1.25, b: float = 0.75, d: float = 1):\n",
    "        self.preprocessing = preprocessing\n",
    "\n",
    "        docs_values = documents.values()\n",
    "\n",
    "        self.corpus = [self.preprocessing(str(document)) for document in docs_values]\n",
    "        self.stop_words = self.extract_collection_stopwords(self.corpus)\n",
    "        print(self.stop_words)\n",
    "        self.corpus = [[word for word in doc if word not in self.stop_words] for doc in self.corpus]\n",
    "        self.bm25 = BM25Plus(self.corpus, k1=k1, b=b, delta=d)\n",
    "        self.index = dict(enumerate(docs_values))\n",
    "\n",
    "    @staticmethod\n",
    "    def extract_weighted_expansion_terms(top_docs, query_terms, num_terms=3):\n",
    "        vectorizer = TfidfVectorizer()\n",
    "        tfidf_matrix = vectorizer.fit_transform(top_docs)\n",
    "        feature_names = vectorizer.get_feature_names_out()\n",
    "\n",
    "        term_scores = tfidf_matrix.sum(axis=0).A1\n",
    "        term_ranking = sorted(zip(feature_names, term_scores), key=lambda x: x[1], reverse=True)\n",
    "\n",
    "        expansion_terms = [term for term, _ in term_ranking if term not in query_terms][:num_terms]\n",
    "        return expansion_terms\n",
    "\n",
    "    @staticmethod\n",
    "    def extract_expansion_terms(top_docs, query_terms, num_terms=3):\n",
    "        \"\"\"\n",
    "        Extracts important terms from top-ranked documents using BM25 scores.\n",
    "        \"\"\"\n",
    "        term_scores = {}\n",
    "\n",
    "        for doc in top_docs:\n",
    "            # print(doc)\n",
    "            for term in doc:\n",
    "                if term in query_terms:\n",
    "                    continue\n",
    "                if term not in term_scores:\n",
    "                    term_scores[term] = 0\n",
    "                term_scores[term] += 1  # Count term occurrences\n",
    "\n",
    "        sorted_terms = sorted(term_scores.items(), key=lambda x: x[1], reverse=True)\n",
    "        expansion_terms = [term for term, _ in sorted_terms[:num_terms]]\n",
    "        return expansion_terms\n",
    "\n",
    "    def search(self, query: QueryBase, top_n=1, num_expansion_terms=3) -> Iterable[DocumentBase]:\n",
    "        \"\"\"\n",
    "        Perform BM25+ search with Pseudo Relevance Feedback (PRF).\n",
    "\n",
    "        Parameters\n",
    "        ----------\n",
    "        query: QueryBase\n",
    "        top_n: int\n",
    "            Number of top documents to consider for PRF.\n",
    "        num_expansion_terms: int\n",
    "            Number of expansion terms to add to the query.\n",
    "        \"\"\"\n",
    "        query = self.preprocessing(str(query))\n",
    "        scores = self.bm25.get_scores(query)\n",
    "        top_doc_indices = scores.argsort()[::-1][:top_n]\n",
    "        top_docs = [self.corpus[idx] for idx in top_doc_indices]\n",
    "\n",
    "        expansion_terms = self.extract_expansion_terms([doc for doc in top_docs], set(query), num_expansion_terms)\n",
    "        expanded_query = \" \".join(query) + \" \" + \" \".join(expansion_terms)\n",
    "        # expanded_query = self.expand_query_with_synonyms(expanded_query)\n",
    "        new_scores = self.bm25.get_scores(expanded_query.split())\n",
    "        final_ranked_docs = new_scores.argsort()[::-1]\n",
    "        for doc in final_ranked_docs:\n",
    "            yield self.index[doc]\n",
    "\n",
    "    @staticmethod\n",
    "    def get_synonyms(word):\n",
    "        synonyms = set()\n",
    "        for syn in wordnet.synsets(word):\n",
    "            for lemma in syn.lemmas():\n",
    "                synonyms.add(lemma.name())\n",
    "        return list(synonyms)\n",
    "\n",
    "    def expand_query_with_synonyms(self, query):\n",
    "        expanded_terms = []\n",
    "        for term in query.split():\n",
    "            expanded_terms.extend(self.get_synonyms(term)[:1]) \n",
    "        return query + \" \" + \" \".join(expanded_terms)\n",
    "\n",
    "    @staticmethod\n",
    "    def extract_collection_stopwords(corpus, max_df=0.90, min_df=3, top_n=250):\n",
    "        \"\"\"\n",
    "        Identify collection-specific stopwords using TF-IDF.\n",
    "\n",
    "        Parameters:\n",
    "        - corpus: List of documents (already preprocessed).\n",
    "        - max_df: Max document frequency threshold (words appearing in >85% of docs are stopwords).\n",
    "        - min_df: Min document frequency threshold (ignore rare words appearing in <2 docs).\n",
    "        - top_n: Number of most frequent words to consider as stopwords.\n",
    "\n",
    "        Returns:\n",
    "        - set of stopwords\n",
    "        \"\"\"\n",
    "        corpus = [\" \".join(doc) for doc in corpus]\n",
    "\n",
    "        vectorizer = TfidfVectorizer(max_df=max_df, min_df=min_df, stop_words=None)\n",
    "        X = vectorizer.fit_transform(corpus)\n",
    "\n",
    "        word_scores = np.asarray(X.sum(axis=0)).flatten()\n",
    "        words = vectorizer.get_feature_names_out()\n",
    "\n",
    "        sorted_words = [word for _, word in sorted(zip(word_scores, words))]\n",
    "\n",
    "        return set(sorted_words[:top_n])\n",
    "\n",
    "system = BM25PlusSystemWithRerank(documents, preprocessing, k1 = 2.1, b = 0.9, d = 1.0)\n"
   ]
  },
  {
   "cell_type": "markdown",
   "metadata": {
    "id": "TwrCzoaZhWi4"
   },
   "source": [
    "## Evaluation\n",
    "Finally, we will evaluate your information retrieval system using [the Mean Average Precision](https://en.wikipedia.org/wiki/Evaluation_measures_(information_retrieval)#Mean_average_precision) (MAP) evaluation measure."
   ]
  },
  {
   "cell_type": "code",
   "execution_count": 27,
   "metadata": {
    "ExecuteTime": {
     "end_time": "2025-03-11T13:51:04.253765Z",
     "start_time": "2025-03-11T13:50:59.785863Z"
    },
    "id": "ssX-nvxGu3JK",
    "tags": []
   },
   "outputs": [
    {
     "data": {
      "text/markdown": [
       "Your system achieved **44.24% MAP score**."
      ],
      "text/plain": [
       "<IPython.core.display.Markdown object>"
      ]
     },
     "metadata": {},
     "output_type": "display_data"
    },
    {
     "data": {
      "text/markdown": [
       "Congratulations, you passed the **22%** minimum! 🥳"
      ],
      "text/plain": [
       "<IPython.core.display.Markdown object>"
      ]
     },
     "metadata": {},
     "output_type": "display_data"
    },
    {
     "data": {
      "text/markdown": [
       "Your result has been submitted to [the leaderboard](https://docs.google.com/spreadsheets/d/e/2PACX-1vSLY-jk70GJZSZjJYMKxh6CMBl47KDP6OFjrY_zIMUF9YRwTLl_DSU1mXCrBPiHyUxqav0URYtVP2PK/pubhtml)! 🏆"
      ],
      "text/plain": [
       "<IPython.core.display.Markdown object>"
      ]
     },
     "metadata": {},
     "output_type": "display_data"
    }
   ],
   "source": [
    "from pv211_utils.cranfield.loader import load_judgements\n",
    "from pv211_utils.cranfield.leaderboard import CranfieldLeaderboard\n",
    "from pv211_utils.cranfield.eval import CranfieldEvaluation\n",
    "\n",
    "submit_result = False\n",
    "author_name = 'Balek, Vojtěch'\n",
    "\n",
    "test_judgements = load_judgements(queries, documents)\n",
    "leaderboard = CranfieldLeaderboard()\n",
    "evaluation = CranfieldEvaluation(system, test_judgements, leaderboard=leaderboard, author_name=author_name)\n",
    "evaluation.evaluate(queries, submit_result)"
   ]
  }
 ],
 "metadata": {
  "colab": {
   "collapsed_sections": [
    "y845E0ePZqeH",
    "CwYwHs-MpD1_"
   ],
   "provenance": []
  },
  "kernelspec": {
   "display_name": "Python 3 (ipykernel)",
   "language": "python",
   "name": "python3"
  },
  "language_info": {
   "codemirror_mode": {
    "name": "ipython",
    "version": 3
   },
   "file_extension": ".py",
   "mimetype": "text/x-python",
   "name": "python",
   "nbconvert_exporter": "python",
   "pygments_lexer": "ipython3",
   "version": "3.8.10"
  },
  "vscode": {
   "interpreter": {
    "hash": "4525bb9afa5b11e91ff8883ff1427ebcb57df9afe31e89541862e2caa0e84c72"
   }
  }
 },
 "nbformat": 4,
 "nbformat_minor": 4
}
